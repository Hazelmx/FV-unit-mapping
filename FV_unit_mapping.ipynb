{
 "cells": [
  {
   "cell_type": "markdown",
   "id": "836f3a5e-4bb8-4fb5-badc-58d9a96dbc8d",
   "metadata": {},
   "source": [
    "# Step 1: Mapping unit from old files"
   ]
  },
  {
   "cell_type": "code",
   "execution_count": 90,
   "id": "3dbe50d7-5a87-4e69-ac66-2693c138bc00",
   "metadata": {},
   "outputs": [],
   "source": [
    "import numpy as np\n",
    "import pandas as pd"
   ]
  },
  {
   "cell_type": "code",
   "execution_count": 91,
   "id": "28bb62b9-4e4d-464b-9bf1-82e00655443a",
   "metadata": {},
   "outputs": [],
   "source": [
    "\n",
    "\n",
    "# Load the datasets\n",
    "transaction=pd.read_excel(\"transaction_mapped.xlsx\") #fully mapped new transaction files with dummies no portion\n",
    "past_transaction = pd.read_excel(\"transaction_portion_compare.xlsx\")#fully mapped old transaction files with dummies and portion"
   ]
  },
  {
   "cell_type": "code",
   "execution_count": 92,
   "id": "9d9a15ec-64e2-4be5-8f6a-22cda0510d24",
   "metadata": {},
   "outputs": [
    {
     "data": {
      "text/plain": [
       "Index(['PID', 'FULL_DATE', 'TRANSACTION_HEADER_KEY', 'STORE_NUMBER', 'AREA',\n",
       "       'DEPARTMENT_NAME', 'CATEGORY_NAME', 'SECTION_NAME', 'SUB_SECTION_NAME',\n",
       "       'PRIMARY_UPC', 'PRODUCT_DESCRIPTION', 'SIZE', 'UNIT_OF_MEASURE',\n",
       "       'SALES', 'UNITS_WEIGHT', 'UNITS_PACKAGES', 'AD_TYPE_DESCRIPTION',\n",
       "       'AVG_PRICE_PER_MEASURE', 'AVG_PRICE_PER_PACK', 'HUMAN_CONSUMABLE_CODE',\n",
       "       'DIETITIAN_PICK', 'WIC_FLAG', 'FOOD_STAMP_FLAG', 'FV_DUMMY1',\n",
       "       'FV_DUMMY2', 'UNIT_OF_MEASURE_mapped', 'FNDDS_SCHNUCKS',\n",
       "       'standard_portion', 'transfer_g', 'final_weight', 'portion'],\n",
       "      dtype='object')"
      ]
     },
     "execution_count": 92,
     "metadata": {},
     "output_type": "execute_result"
    }
   ],
   "source": [
    "past_transaction.columns"
   ]
  },
  {
   "cell_type": "code",
   "execution_count": 73,
   "id": "5c1536ff-07c6-4006-81c6-7eae8f29267b",
   "metadata": {
    "scrolled": true
   },
   "outputs": [
    {
     "data": {
      "text/plain": [
       "Index(['PID', 'FULL_DATE', 'TRANSACTION_HEADER_KEY', 'STORE_NUMBER', 'AREA',\n",
       "       'DEPARTMENT_NAME', 'CATEGORY_NAME', 'SECTION_NAME', 'SUB_SECTION_NAME',\n",
       "       'PRIMARY_UPC', 'PRODUCT_DESCRIPTION', 'SIZE', 'UNIT_OF_MEASURE',\n",
       "       'SALES', 'UNITS_WEIGHT', 'UNITS_PACKAGES', 'AD_TYPE_DESCRIPTION',\n",
       "       'AVG_PRICE_PER_MEASURE', 'AVG_PRICE_PER_PACK', 'HUMAN_CONSUMABLE_CODE',\n",
       "       'DIETITIAN_PICK', 'WIC_FLAG', 'FOOD_STAMP_FLAG', 'FV_DUMMY1',\n",
       "       'FV_DUMMY2'],\n",
       "      dtype='object')"
      ]
     },
     "execution_count": 73,
     "metadata": {},
     "output_type": "execute_result"
    }
   ],
   "source": [
    "transaction.columns"
   ]
  },
  {
   "cell_type": "code",
   "execution_count": 93,
   "id": "835a2aec-860d-476e-b1d2-24877e2beb10",
   "metadata": {},
   "outputs": [],
   "source": [
    "FV=past_transaction[past_transaction['FV_DUMMY1'] == 1]\n",
    "FV1=transaction[transaction['FV_DUMMY1'] == 1]"
   ]
  },
  {
   "cell_type": "code",
   "execution_count": 53,
   "id": "b30eac04-6203-448c-ab04-247434365661",
   "metadata": {},
   "outputs": [
    {
     "data": {
      "text/plain": [
       "UNIT_OF_MEASURE\n",
       "LB    3470\n",
       "OZ    3086\n",
       "EA    1977\n",
       "1N     172\n",
       "Name: count, dtype: int64"
      ]
     },
     "execution_count": 53,
     "metadata": {},
     "output_type": "execute_result"
    }
   ],
   "source": [
    "FV['UNIT_OF_MEASURE'].value_counts()"
   ]
  },
  {
   "cell_type": "code",
   "execution_count": 9,
   "id": "fdb0e6e2-42e2-401f-9ba6-477c93bb6e25",
   "metadata": {},
   "outputs": [],
   "source": [
    "target = FV[~FV['UNIT_OF_MEASURE'].isin(['LB', 'OZ'])]\n"
   ]
  },
  {
   "cell_type": "code",
   "execution_count": 94,
   "id": "28a7b17f-b63b-4367-b75b-bc54d282b724",
   "metadata": {},
   "outputs": [],
   "source": [
    "unit_old=FV[['PRODUCT_DESCRIPTION','UNIT_OF_MEASURE','UNIT_OF_MEASURE_mapped','FNDDS_SCHNUCKS']].drop_duplicates()"
   ]
  },
  {
   "cell_type": "code",
   "execution_count": 10,
   "id": "4cb73bab-2107-4d54-93a5-636dfca5b04a",
   "metadata": {},
   "outputs": [],
   "source": [
    "unit_old=target[['PRODUCT_DESCRIPTION','UNIT_OF_MEASURE','UNIT_OF_MEASURE_mapped','FNDDS_SCHNUCKS']].drop_duplicates()"
   ]
  },
  {
   "cell_type": "code",
   "execution_count": 11,
   "id": "053373e0-0b99-4cd6-aae3-e1021d52e4ae",
   "metadata": {},
   "outputs": [],
   "source": [
    "FV_measure=FV1[['PRODUCT_DESCRIPTION','UNIT_OF_MEASURE']].drop_duplicates()"
   ]
  },
  {
   "cell_type": "code",
   "execution_count": 55,
   "id": "331ba934-8217-4d2b-baa4-b058b99ab29e",
   "metadata": {},
   "outputs": [
    {
     "data": {
      "text/html": [
       "<div>\n",
       "<style scoped>\n",
       "    .dataframe tbody tr th:only-of-type {\n",
       "        vertical-align: middle;\n",
       "    }\n",
       "\n",
       "    .dataframe tbody tr th {\n",
       "        vertical-align: top;\n",
       "    }\n",
       "\n",
       "    .dataframe thead th {\n",
       "        text-align: right;\n",
       "    }\n",
       "</style>\n",
       "<table border=\"1\" class=\"dataframe\">\n",
       "  <thead>\n",
       "    <tr style=\"text-align: right;\">\n",
       "      <th></th>\n",
       "      <th>PRODUCT_DESCRIPTION</th>\n",
       "      <th>UNIT_OF_MEASURE</th>\n",
       "      <th>UNIT_OF_MEASURE_mapped</th>\n",
       "      <th>FNDDS_SCHNUCKS</th>\n",
       "    </tr>\n",
       "  </thead>\n",
       "  <tbody>\n",
       "    <tr>\n",
       "      <th>2</th>\n",
       "      <td>Alexia - Balsamic Brussels Sprouts (14 Oz)</td>\n",
       "      <td>OZ</td>\n",
       "      <td>NaN</td>\n",
       "      <td>NaN</td>\n",
       "    </tr>\n",
       "    <tr>\n",
       "      <th>3</th>\n",
       "      <td>Alexia - Truffle Parmesan Broccoli (14 Oz)</td>\n",
       "      <td>OZ</td>\n",
       "      <td>NaN</td>\n",
       "      <td>NaN</td>\n",
       "    </tr>\n",
       "    <tr>\n",
       "      <th>17</th>\n",
       "      <td>Allens - Popeye Spinach (13.5 Oz)</td>\n",
       "      <td>OZ</td>\n",
       "      <td>NaN</td>\n",
       "      <td>NaN</td>\n",
       "    </tr>\n",
       "    <tr>\n",
       "      <th>18</th>\n",
       "      <td>Anjou Pears</td>\n",
       "      <td>LB</td>\n",
       "      <td>NaN</td>\n",
       "      <td>NaN</td>\n",
       "    </tr>\n",
       "    <tr>\n",
       "      <th>99</th>\n",
       "      <td>Anjou Pears Bag (3 Lb)</td>\n",
       "      <td>LB</td>\n",
       "      <td>NaN</td>\n",
       "      <td>NaN</td>\n",
       "    </tr>\n",
       "    <tr>\n",
       "      <th>...</th>\n",
       "      <td>...</td>\n",
       "      <td>...</td>\n",
       "      <td>...</td>\n",
       "      <td>...</td>\n",
       "    </tr>\n",
       "    <tr>\n",
       "      <th>53766</th>\n",
       "      <td>Yellow Sweet Bell Pepper</td>\n",
       "      <td>EA</td>\n",
       "      <td>g</td>\n",
       "      <td>120.0</td>\n",
       "    </tr>\n",
       "    <tr>\n",
       "      <th>53928</th>\n",
       "      <td>Yellow Watermelon</td>\n",
       "      <td>EA</td>\n",
       "      <td>g</td>\n",
       "      <td>5200.0</td>\n",
       "    </tr>\n",
       "    <tr>\n",
       "      <th>53931</th>\n",
       "      <td>Yellow Watermelon Half</td>\n",
       "      <td>EA</td>\n",
       "      <td>g</td>\n",
       "      <td>2600.0</td>\n",
       "    </tr>\n",
       "    <tr>\n",
       "      <th>53934</th>\n",
       "      <td>Zucchini Squash Product Of  U.S.A.</td>\n",
       "      <td>LB</td>\n",
       "      <td>NaN</td>\n",
       "      <td>NaN</td>\n",
       "    </tr>\n",
       "    <tr>\n",
       "      <th>54061</th>\n",
       "      <td>Zucchini Squash Wrapped (3 Ea)</td>\n",
       "      <td>EA</td>\n",
       "      <td>g</td>\n",
       "      <td>200.0</td>\n",
       "    </tr>\n",
       "  </tbody>\n",
       "</table>\n",
       "<p>1037 rows × 4 columns</p>\n",
       "</div>"
      ],
      "text/plain": [
       "                              PRODUCT_DESCRIPTION UNIT_OF_MEASURE  \\\n",
       "2      Alexia - Balsamic Brussels Sprouts (14 Oz)              OZ   \n",
       "3      Alexia - Truffle Parmesan Broccoli (14 Oz)              OZ   \n",
       "17              Allens - Popeye Spinach (13.5 Oz)              OZ   \n",
       "18                                    Anjou Pears              LB   \n",
       "99                         Anjou Pears Bag (3 Lb)              LB   \n",
       "...                                           ...             ...   \n",
       "53766                    Yellow Sweet Bell Pepper              EA   \n",
       "53928                           Yellow Watermelon              EA   \n",
       "53931                      Yellow Watermelon Half              EA   \n",
       "53934          Zucchini Squash Product Of  U.S.A.              LB   \n",
       "54061              Zucchini Squash Wrapped (3 Ea)              EA   \n",
       "\n",
       "      UNIT_OF_MEASURE_mapped  FNDDS_SCHNUCKS  \n",
       "2                        NaN             NaN  \n",
       "3                        NaN             NaN  \n",
       "17                       NaN             NaN  \n",
       "18                       NaN             NaN  \n",
       "99                       NaN             NaN  \n",
       "...                      ...             ...  \n",
       "53766                      g           120.0  \n",
       "53928                      g          5200.0  \n",
       "53931                      g          2600.0  \n",
       "53934                    NaN             NaN  \n",
       "54061                      g           200.0  \n",
       "\n",
       "[1037 rows x 4 columns]"
      ]
     },
     "execution_count": 55,
     "metadata": {},
     "output_type": "execute_result"
    }
   ],
   "source": [
    "unit_old"
   ]
  },
  {
   "cell_type": "code",
   "execution_count": 17,
   "id": "ad1c3973-dc6f-4e15-afff-44e868b63403",
   "metadata": {},
   "outputs": [],
   "source": [
    "FV_list1= FV_measure.merge(unit_old, on='PRODUCT_DESCRIPTION', how='left')"
   ]
  },
  {
   "cell_type": "code",
   "execution_count": 20,
   "id": "4fa24b2b-b1ba-4368-a13e-9334f109c12c",
   "metadata": {},
   "outputs": [],
   "source": [
    "# Ensure numeric, but keep NaN if conversion fails\n",
    "FV_list1['FNDDS_SCHNUCKS'] = pd.to_numeric(FV_list1['FNDDS_SCHNUCKS'], errors='coerce')\n",
    "\n",
    "# Keep NaN, drop only inf, -inf, and negatives\n",
    "FV_list1 = FV_list1[\n",
    "    (FV_list1['FNDDS_SCHNUCKS'] != np.inf) & \n",
    "    (FV_list1['FNDDS_SCHNUCKS'] != -np.inf) & \n",
    "    ((FV_list1['FNDDS_SCHNUCKS'].isna()) | (FV_list1['FNDDS_SCHNUCKS'] >= 0))\n",
    "].reset_index(drop=True)\n",
    "\n"
   ]
  },
  {
   "cell_type": "code",
   "execution_count": 21,
   "id": "d2476f7e-5f1c-4a8e-b9ec-fe44fe9d898e",
   "metadata": {
    "scrolled": true
   },
   "outputs": [
    {
     "data": {
      "text/html": [
       "<div>\n",
       "<style scoped>\n",
       "    .dataframe tbody tr th:only-of-type {\n",
       "        vertical-align: middle;\n",
       "    }\n",
       "\n",
       "    .dataframe tbody tr th {\n",
       "        vertical-align: top;\n",
       "    }\n",
       "\n",
       "    .dataframe thead th {\n",
       "        text-align: right;\n",
       "    }\n",
       "</style>\n",
       "<table border=\"1\" class=\"dataframe\">\n",
       "  <thead>\n",
       "    <tr style=\"text-align: right;\">\n",
       "      <th></th>\n",
       "      <th>PRODUCT_DESCRIPTION</th>\n",
       "      <th>UNIT_OF_MEASURE_x</th>\n",
       "      <th>UNIT_OF_MEASURE_y</th>\n",
       "      <th>UNIT_OF_MEASURE_mapped</th>\n",
       "      <th>FNDDS_SCHNUCKS</th>\n",
       "    </tr>\n",
       "  </thead>\n",
       "  <tbody>\n",
       "    <tr>\n",
       "      <th>0</th>\n",
       "      <td>Sweet Potatoes Product Of U.S.A.</td>\n",
       "      <td>LB</td>\n",
       "      <td>LB</td>\n",
       "      <td>NaN</td>\n",
       "      <td>NaN</td>\n",
       "    </tr>\n",
       "    <tr>\n",
       "      <th>1</th>\n",
       "      <td>Green Cabbage Product Of U.S.A</td>\n",
       "      <td>LB</td>\n",
       "      <td>LB</td>\n",
       "      <td>NaN</td>\n",
       "      <td>NaN</td>\n",
       "    </tr>\n",
       "    <tr>\n",
       "      <th>2</th>\n",
       "      <td>Fresh Bananas</td>\n",
       "      <td>LB</td>\n",
       "      <td>LB</td>\n",
       "      <td>NaN</td>\n",
       "      <td>NaN</td>\n",
       "    </tr>\n",
       "    <tr>\n",
       "      <th>3</th>\n",
       "      <td>Nature Greens - Curly Mustard Greens Bag (16 Oz)</td>\n",
       "      <td>OZ</td>\n",
       "      <td>OZ</td>\n",
       "      <td>NaN</td>\n",
       "      <td>NaN</td>\n",
       "    </tr>\n",
       "    <tr>\n",
       "      <th>4</th>\n",
       "      <td>Mustard Greens Product Of U.S.A.</td>\n",
       "      <td>EA</td>\n",
       "      <td>EA</td>\n",
       "      <td>g</td>\n",
       "      <td>32.0</td>\n",
       "    </tr>\n",
       "    <tr>\n",
       "      <th>...</th>\n",
       "      <td>...</td>\n",
       "      <td>...</td>\n",
       "      <td>...</td>\n",
       "      <td>...</td>\n",
       "      <td>...</td>\n",
       "    </tr>\n",
       "    <tr>\n",
       "      <th>1012</th>\n",
       "      <td>Schnucks - Pieces And Stems Mushrooms No Salt ...</td>\n",
       "      <td>OZ</td>\n",
       "      <td>OZ</td>\n",
       "      <td>NaN</td>\n",
       "      <td>NaN</td>\n",
       "    </tr>\n",
       "    <tr>\n",
       "      <th>1013</th>\n",
       "      <td>Bella Sun Luci - Sun Dried Julienne Cut Tomato...</td>\n",
       "      <td>OZ</td>\n",
       "      <td>OZ</td>\n",
       "      <td>NaN</td>\n",
       "      <td>NaN</td>\n",
       "    </tr>\n",
       "    <tr>\n",
       "      <th>1014</th>\n",
       "      <td>Pictsweet - Speckled Butter Beans (12 Oz)</td>\n",
       "      <td>OZ</td>\n",
       "      <td>OZ</td>\n",
       "      <td>NaN</td>\n",
       "      <td>NaN</td>\n",
       "    </tr>\n",
       "    <tr>\n",
       "      <th>1015</th>\n",
       "      <td>Thats Smart - Sweet Peas (15 Oz)</td>\n",
       "      <td>OZ</td>\n",
       "      <td>OZ</td>\n",
       "      <td>NaN</td>\n",
       "      <td>NaN</td>\n",
       "    </tr>\n",
       "    <tr>\n",
       "      <th>1016</th>\n",
       "      <td>Food Club - Whole Potatoes (15 Oz)</td>\n",
       "      <td>OZ</td>\n",
       "      <td>OZ</td>\n",
       "      <td>NaN</td>\n",
       "      <td>NaN</td>\n",
       "    </tr>\n",
       "  </tbody>\n",
       "</table>\n",
       "<p>1017 rows × 5 columns</p>\n",
       "</div>"
      ],
      "text/plain": [
       "                                    PRODUCT_DESCRIPTION UNIT_OF_MEASURE_x  \\\n",
       "0                      Sweet Potatoes Product Of U.S.A.                LB   \n",
       "1                        Green Cabbage Product Of U.S.A                LB   \n",
       "2                                         Fresh Bananas                LB   \n",
       "3      Nature Greens - Curly Mustard Greens Bag (16 Oz)                OZ   \n",
       "4                      Mustard Greens Product Of U.S.A.                EA   \n",
       "...                                                 ...               ...   \n",
       "1012  Schnucks - Pieces And Stems Mushrooms No Salt ...                OZ   \n",
       "1013  Bella Sun Luci - Sun Dried Julienne Cut Tomato...                OZ   \n",
       "1014          Pictsweet - Speckled Butter Beans (12 Oz)                OZ   \n",
       "1015                   Thats Smart - Sweet Peas (15 Oz)                OZ   \n",
       "1016                 Food Club - Whole Potatoes (15 Oz)                OZ   \n",
       "\n",
       "     UNIT_OF_MEASURE_y UNIT_OF_MEASURE_mapped  FNDDS_SCHNUCKS  \n",
       "0                   LB                    NaN             NaN  \n",
       "1                   LB                    NaN             NaN  \n",
       "2                   LB                    NaN             NaN  \n",
       "3                   OZ                    NaN             NaN  \n",
       "4                   EA                      g            32.0  \n",
       "...                ...                    ...             ...  \n",
       "1012                OZ                    NaN             NaN  \n",
       "1013                OZ                    NaN             NaN  \n",
       "1014                OZ                    NaN             NaN  \n",
       "1015                OZ                    NaN             NaN  \n",
       "1016                OZ                    NaN             NaN  \n",
       "\n",
       "[1017 rows x 5 columns]"
      ]
     },
     "execution_count": 21,
     "metadata": {},
     "output_type": "execute_result"
    }
   ],
   "source": [
    "FV_list1"
   ]
  },
  {
   "cell_type": "code",
   "execution_count": 95,
   "id": "d54fb844-511f-49f4-85eb-ff896387e208",
   "metadata": {},
   "outputs": [],
   "source": [
    "unit_old.to_excel(\"FV_unit_old.xlsx\", index=False) #list of FV products with their corresponding unit mapped from old files"
   ]
  },
  {
   "cell_type": "code",
   "execution_count": 17,
   "id": "313fc567-a1d4-41bb-846d-3a59d110f46f",
   "metadata": {},
   "outputs": [
    {
     "data": {
      "text/plain": [
       "PRODUCT_DESCRIPTION\n",
       "Carrots 2 Lb Bag                                                2\n",
       "Cotton Candy Grapes                                             2\n",
       "Dole - Fruit Bowls Diced Pears In 100% Fruit Juice (4 Count)    2\n",
       "Green Bell Pepper Product Of U.S.A. & Canada                    2\n",
       "Green Kiwi                                                      2\n",
       "Honeydew Melon                                                  2\n",
       "Limes                                                           4\n",
       "Microwaveable Sweet Potatoes                                    2\n",
       "Organic Celery Hearts                                           2\n",
       "Organic Yellow Onions 3 Lb Bag                                  2\n",
       "Schnucks - Freshly Frozen Mini Corn On The Cob (12 Count)       2\n",
       "Sugar Kiss Melons                                               2\n",
       "dtype: int64"
      ]
     },
     "execution_count": 17,
     "metadata": {},
     "output_type": "execute_result"
    }
   ],
   "source": [
    "duplicates = FV_list1.groupby('PRODUCT_DESCRIPTION').size()\n",
    "duplicates = duplicates[duplicates > 1]\n",
    "duplicates\n"
   ]
  },
  {
   "cell_type": "code",
   "execution_count": 18,
   "id": "75415490-8e64-402d-91d1-8787929f9b6f",
   "metadata": {},
   "outputs": [],
   "source": [
    "# Find duplicated PRODUCT_DESCRIPTION after merge\n",
    "dupes = FV_list1[FV_list1.duplicated(subset=['PRODUCT_DESCRIPTION'], keep=False)]\n",
    "\n",
    "# Show them\n",
    "dupes=dupes.sort_values('PRODUCT_DESCRIPTION')\n",
    "dupes.to_excel(\"FV_unit_dupe.xlsx\", index=False)"
   ]
  },
  {
   "cell_type": "markdown",
   "id": "be5df5e6-221b-4b4f-b6f6-4bda67a274d9",
   "metadata": {},
   "source": [
    "# Step3: Calculate portion by FV unit mappped"
   ]
  },
  {
   "cell_type": "code",
   "execution_count": 120,
   "id": "faebe255-8c34-4291-9772-65480436a705",
   "metadata": {},
   "outputs": [],
   "source": [
    "import pandas as pd\n",
    "transaction=pd.read_excel(\"transaction_mapped.xlsx\") #fully mapped new transaction files with dummies no portion\n",
    "FV_list=pd.read_excel(\"FV_unit.xlsx\") #fully unit mapped fv product list"
   ]
  },
  {
   "cell_type": "code",
   "execution_count": 121,
   "id": "bc1bbb4c-ebe9-49bd-8671-128893106f1c",
   "metadata": {},
   "outputs": [
    {
     "data": {
      "text/html": [
       "<div>\n",
       "<style scoped>\n",
       "    .dataframe tbody tr th:only-of-type {\n",
       "        vertical-align: middle;\n",
       "    }\n",
       "\n",
       "    .dataframe tbody tr th {\n",
       "        vertical-align: top;\n",
       "    }\n",
       "\n",
       "    .dataframe thead th {\n",
       "        text-align: right;\n",
       "    }\n",
       "</style>\n",
       "<table border=\"1\" class=\"dataframe\">\n",
       "  <thead>\n",
       "    <tr style=\"text-align: right;\">\n",
       "      <th></th>\n",
       "      <th>PRODUCT_DESCRIPTION</th>\n",
       "      <th>UNIT_OF_MEASURE</th>\n",
       "      <th>UNIT_OF_MEASURE_mapped</th>\n",
       "      <th>FNDDS_SCHNUCKS</th>\n",
       "    </tr>\n",
       "  </thead>\n",
       "  <tbody>\n",
       "    <tr>\n",
       "      <th>0</th>\n",
       "      <td>Alexia - Balsamic Brussels Sprouts (14 Oz)</td>\n",
       "      <td>OZ</td>\n",
       "      <td>NaN</td>\n",
       "      <td>NaN</td>\n",
       "    </tr>\n",
       "    <tr>\n",
       "      <th>1</th>\n",
       "      <td>Alexia - Truffle Parmesan Broccoli (14 Oz)</td>\n",
       "      <td>OZ</td>\n",
       "      <td>NaN</td>\n",
       "      <td>NaN</td>\n",
       "    </tr>\n",
       "    <tr>\n",
       "      <th>2</th>\n",
       "      <td>Allens - Popeye Spinach (13.5 Oz)</td>\n",
       "      <td>OZ</td>\n",
       "      <td>NaN</td>\n",
       "      <td>NaN</td>\n",
       "    </tr>\n",
       "    <tr>\n",
       "      <th>3</th>\n",
       "      <td>Anjou Pears</td>\n",
       "      <td>LB</td>\n",
       "      <td>NaN</td>\n",
       "      <td>NaN</td>\n",
       "    </tr>\n",
       "    <tr>\n",
       "      <th>4</th>\n",
       "      <td>Anjou Pears Bag (3 Lb)</td>\n",
       "      <td>LB</td>\n",
       "      <td>NaN</td>\n",
       "      <td>NaN</td>\n",
       "    </tr>\n",
       "    <tr>\n",
       "      <th>...</th>\n",
       "      <td>...</td>\n",
       "      <td>...</td>\n",
       "      <td>...</td>\n",
       "      <td>...</td>\n",
       "    </tr>\n",
       "    <tr>\n",
       "      <th>1032</th>\n",
       "      <td>Yellow Sweet Bell Pepper</td>\n",
       "      <td>EA</td>\n",
       "      <td>g</td>\n",
       "      <td>120.0</td>\n",
       "    </tr>\n",
       "    <tr>\n",
       "      <th>1033</th>\n",
       "      <td>Yellow Watermelon</td>\n",
       "      <td>EA</td>\n",
       "      <td>g</td>\n",
       "      <td>5200.0</td>\n",
       "    </tr>\n",
       "    <tr>\n",
       "      <th>1034</th>\n",
       "      <td>Yellow Watermelon Half</td>\n",
       "      <td>EA</td>\n",
       "      <td>g</td>\n",
       "      <td>2600.0</td>\n",
       "    </tr>\n",
       "    <tr>\n",
       "      <th>1035</th>\n",
       "      <td>Zucchini Squash Product Of  U.S.A.</td>\n",
       "      <td>LB</td>\n",
       "      <td>NaN</td>\n",
       "      <td>NaN</td>\n",
       "    </tr>\n",
       "    <tr>\n",
       "      <th>1036</th>\n",
       "      <td>Zucchini Squash Wrapped (3 Ea)</td>\n",
       "      <td>EA</td>\n",
       "      <td>g</td>\n",
       "      <td>200.0</td>\n",
       "    </tr>\n",
       "  </tbody>\n",
       "</table>\n",
       "<p>1037 rows × 4 columns</p>\n",
       "</div>"
      ],
      "text/plain": [
       "                             PRODUCT_DESCRIPTION UNIT_OF_MEASURE  \\\n",
       "0     Alexia - Balsamic Brussels Sprouts (14 Oz)              OZ   \n",
       "1     Alexia - Truffle Parmesan Broccoli (14 Oz)              OZ   \n",
       "2              Allens - Popeye Spinach (13.5 Oz)              OZ   \n",
       "3                                    Anjou Pears              LB   \n",
       "4                         Anjou Pears Bag (3 Lb)              LB   \n",
       "...                                          ...             ...   \n",
       "1032                    Yellow Sweet Bell Pepper              EA   \n",
       "1033                           Yellow Watermelon              EA   \n",
       "1034                      Yellow Watermelon Half              EA   \n",
       "1035          Zucchini Squash Product Of  U.S.A.              LB   \n",
       "1036              Zucchini Squash Wrapped (3 Ea)              EA   \n",
       "\n",
       "     UNIT_OF_MEASURE_mapped  FNDDS_SCHNUCKS  \n",
       "0                       NaN             NaN  \n",
       "1                       NaN             NaN  \n",
       "2                       NaN             NaN  \n",
       "3                       NaN             NaN  \n",
       "4                       NaN             NaN  \n",
       "...                     ...             ...  \n",
       "1032                      g           120.0  \n",
       "1033                      g          5200.0  \n",
       "1034                      g          2600.0  \n",
       "1035                    NaN             NaN  \n",
       "1036                      g           200.0  \n",
       "\n",
       "[1037 rows x 4 columns]"
      ]
     },
     "execution_count": 121,
     "metadata": {},
     "output_type": "execute_result"
    }
   ],
   "source": [
    "FV_list"
   ]
  },
  {
   "cell_type": "code",
   "execution_count": 122,
   "id": "ec7deda1-90da-4458-b673-8b2f670dfc25",
   "metadata": {},
   "outputs": [
    {
     "data": {
      "text/plain": [
       "Index(['PID', 'FULL_DATE', 'TRANSACTION_HEADER_KEY', 'STORE_NUMBER', 'AREA',\n",
       "       'DEPARTMENT_NAME', 'CATEGORY_NAME', 'SECTION_NAME', 'SUB_SECTION_NAME',\n",
       "       'PRIMARY_UPC', 'PRODUCT_DESCRIPTION', 'SIZE', 'UNIT_OF_MEASURE',\n",
       "       'SALES', 'UNITS_WEIGHT', 'UNITS_PACKAGES', 'AD_TYPE_DESCRIPTION',\n",
       "       'AVG_PRICE_PER_MEASURE', 'AVG_PRICE_PER_PACK', 'HUMAN_CONSUMABLE_CODE',\n",
       "       'DIETITIAN_PICK', 'WIC_FLAG', 'FOOD_STAMP_FLAG', 'FV_DUMMY1',\n",
       "       'FV_DUMMY2'],\n",
       "      dtype='object')"
      ]
     },
     "execution_count": 122,
     "metadata": {},
     "output_type": "execute_result"
    }
   ],
   "source": [
    "transaction.columns"
   ]
  },
  {
   "cell_type": "code",
   "execution_count": 123,
   "id": "0059e72b-e358-4588-a1f1-451ef39984f6",
   "metadata": {},
   "outputs": [],
   "source": [
    "note=transaction[['PRODUCT_DESCRIPTION','FV_DUMMY1','FV_DUMMY1']]"
   ]
  },
  {
   "cell_type": "code",
   "execution_count": 124,
   "id": "510e44a5-4d18-46fb-8a6c-3305edce8361",
   "metadata": {},
   "outputs": [],
   "source": [
    "FV_list = FV_list.drop_duplicates(subset=['PRODUCT_DESCRIPTION'], keep='first')"
   ]
  },
  {
   "cell_type": "code",
   "execution_count": 125,
   "id": "9036717c-1285-46ae-8314-a477a777dab4",
   "metadata": {},
   "outputs": [],
   "source": [
    "FV_list = FV_list[['PRODUCT_DESCRIPTION', 'UNIT_OF_MEASURE_mapped', 'FNDDS_SCHNUCKS']]"
   ]
  },
  {
   "cell_type": "code",
   "execution_count": 126,
   "id": "10f4109c-9cbf-48b7-9e97-3beb129cdfca",
   "metadata": {},
   "outputs": [],
   "source": [
    "transaction=transaction.merge(FV_list, on='PRODUCT_DESCRIPTION', how='left')"
   ]
  },
  {
   "cell_type": "markdown",
   "id": "8f7293f5-c783-4eba-8a94-30cefe3019d6",
   "metadata": {},
   "source": [
    "set standard portion according to dummy 2"
   ]
  },
  {
   "cell_type": "code",
   "execution_count": 127,
   "id": "ee5c0c16-23cd-406e-9036-10df56098960",
   "metadata": {},
   "outputs": [],
   "source": [
    "# Create 'standard_portion' with default value ( NaN)\n",
    "transaction['standard_portion'] = None  \n",
    "\n",
    "# Assign based on conditions\n",
    "transaction.loc[transaction['FV_DUMMY2'].isin([1, 2, 3, 6, 7, 8]), 'standard_portion'] = 120\n",
    "transaction.loc[transaction['FV_DUMMY2'].isin([4, 5]), 'standard_portion'] = 200\n",
    "transaction.loc[transaction['FV_DUMMY2'] == 9, 'standard_portion'] = 30\n"
   ]
  },
  {
   "cell_type": "markdown",
   "id": "76e1fd0e-c83a-4402-9459-c19492bde16f",
   "metadata": {},
   "source": [
    "set transfer_g to transfer all types of 'UNIT_OF_MEASURE' into 'g'"
   ]
  },
  {
   "cell_type": "code",
   "execution_count": 128,
   "id": "04f5b3ce-3ed7-43f0-bf37-9cc9a683986e",
   "metadata": {},
   "outputs": [],
   "source": [
    "# Create 'transfer_g' with default value ( NaN)\n",
    "transaction['transfer_g'] = None  \n",
    "transaction.loc[(transaction['FV_DUMMY1'] == 1)&(transaction['UNIT_OF_MEASURE'] == 'OZ'), 'transfer_g'] = 28.35\n",
    "transaction.loc[(transaction['FV_DUMMY2'].isin([4, 5]))&(transaction['UNIT_OF_MEASURE'] == 'OZ'), 'transfer_g'] = 29.57\n",
    "transaction.loc[(transaction['FV_DUMMY1'] == 1)&(transaction['UNIT_OF_MEASURE'] == 'LB'), 'transfer_g'] = 453.59\n",
    "transaction.loc[(transaction['FV_DUMMY1'] == 1)&(transaction['UNIT_OF_MEASURE_mapped'] == 'lb'), 'transfer_g'] = 453.59\n",
    "transaction.loc[(transaction['FV_DUMMY1'] == 1)&(transaction['UNIT_OF_MEASURE_mapped'] == 'oz'), 'transfer_g'] = 28.35\n",
    "transaction.loc[(transaction['FV_DUMMY2'].isin([4, 5]))&(transaction['UNIT_OF_MEASURE_mapped'] == 'oz'), 'transfer_g'] = 29.57\n",
    "transaction.loc[(transaction['FV_DUMMY1'] == 1)&(transaction['UNIT_OF_MEASURE_mapped'] == 'g'), 'transfer_g'] = 1"
   ]
  },
  {
   "attachments": {},
   "cell_type": "markdown",
   "id": "c2dbd4d3-598e-4958-a0a6-8d9c7e659f11",
   "metadata": {},
   "source": [
    "create column final_weight for comparison"
   ]
  },
  {
   "cell_type": "code",
   "execution_count": 129,
   "id": "b1f18d69-3a3f-4a73-9d0d-6ebdb2002057",
   "metadata": {},
   "outputs": [],
   "source": [
    "transaction['final_weight'] = None  \n",
    "transaction.loc[(transaction['FV_DUMMY1'] == 1)&(transaction['UNIT_OF_MEASURE'] == 'OZ'), 'final_weight'] = transaction['SIZE']*transaction['UNITS_WEIGHT']\n",
    "transaction.loc[(transaction['FV_DUMMY1'] == 1)&(transaction['UNIT_OF_MEASURE'] == 'LB'), 'final_weight'] = transaction['SIZE']*transaction['UNITS_WEIGHT']\n",
    "transaction.loc[(transaction['FV_DUMMY1'] == 1)&(transaction['UNIT_OF_MEASURE'] == '1N'), 'final_weight'] = transaction['SIZE']*transaction['UNITS_WEIGHT']*transaction['FNDDS_SCHNUCKS']\n",
    "transaction.loc[(transaction['FV_DUMMY1'] == 1)&(transaction['UNIT_OF_MEASURE'] == 'EA'), 'final_weight'] = transaction['SIZE']*transaction['UNITS_WEIGHT']*transaction['FNDDS_SCHNUCKS']\n"
   ]
  },
  {
   "cell_type": "markdown",
   "id": "c52c2cfa-9256-410b-bb3f-2f3ecb5f80ab",
   "metadata": {},
   "source": [
    "Calculate: Portion= final_weight * transfer_g/standard portion"
   ]
  },
  {
   "cell_type": "code",
   "execution_count": 130,
   "id": "512a3c3f-b3fc-4d7b-a97a-fda5e3f2dad1",
   "metadata": {},
   "outputs": [],
   "source": [
    "transaction['portion'] = transaction['final_weight']*transaction['transfer_g']/transaction['standard_portion']"
   ]
  },
  {
   "cell_type": "code",
   "execution_count": 131,
   "id": "aa4142ee-cdc1-408b-8e00-703353d27b7c",
   "metadata": {},
   "outputs": [],
   "source": [
    "transaction.to_excel(\"transaction_portion.xlsx\", index=False)"
   ]
  }
 ],
 "metadata": {
  "kernelspec": {
   "display_name": "Python 3.10 (IV)",
   "language": "python",
   "name": "iv_env"
  },
  "language_info": {
   "codemirror_mode": {
    "name": "ipython",
    "version": 3
   },
   "file_extension": ".py",
   "mimetype": "text/x-python",
   "name": "python",
   "nbconvert_exporter": "python",
   "pygments_lexer": "ipython3",
   "version": "3.10.18"
  }
 },
 "nbformat": 4,
 "nbformat_minor": 5
}
